{
 "cells": [
  {
   "cell_type": "markdown",
   "id": "ca8810f2",
   "metadata": {},
   "source": [
    "Steps\n",
    "* calculate size of electrode areas 4680 vs 280Ah vs 500Ah \n",
    "* determine number of windings / sheets \n",
    "* calculate number of current collector tabs \n",
    "* cell volume utilization ratio (electode-seperator-current_collector volume / cell can volume) --> why?\n",
    "* resistance / impedance to calculate Joule Heating IR² (only valid for external short circuit, not internal)\n"
   ]
  },
  {
   "cell_type": "code",
   "execution_count": 2,
   "id": "809c4465",
   "metadata": {},
   "outputs": [],
   "source": [
    "import sys\n",
    "sys.path.insert(0, '/home/matthias/Documents/GitHub/Cell_model_energy_costs')\n",
    "import cell_model as Cellmodel"
   ]
  },
  {
   "cell_type": "markdown",
   "id": "87073ace",
   "metadata": {},
   "source": [
    "## Making the cells"
   ]
  },
  {
   "cell_type": "code",
   "execution_count": 99,
   "id": "1440e849",
   "metadata": {},
   "outputs": [],
   "source": [
    "# Active materials\n",
    "NMC_cathode = Cellmodel.Activematerial_cathode(\"NMC811\" , 195, 3.86)\n",
    "LFP_cathode = Cellmodel.Activematerial_cathode(\"LFP\", 160, 3.3)\n",
    "Gr = Cellmodel.Activematerial_anode(\"Gr\", 344 , 0.17)\n",
    "\n",
    "# Currentcollectors \n",
    "Al = Cellmodel.CurrentCollector_cathode(\"Al\", 14e-4 , 2.76)\n",
    "Cu = Cellmodel.CurrentCollector_anode(\"Cu\", 8e-4 , 8.96)\n",
    "\n",
    "# Electrolyte \n",
    "LP40_standard = Cellmodel.Electrolyte_liquid(\"LiPF6\" , \"EC:DMC\",\n",
    "                                      1.1, # concentration mol / L\n",
    "                                      151.9 # MolarMass LiPF6\n",
    "                                      )\n",
    "\n",
    "# Separator\n",
    "Separator_standard = Cellmodel.Separator(\"PP+Al\" , 12e-4 , 0.44 , 1.18)\n",
    "\n",
    "# Electrods \n",
    "positive_NMC = Cellmodel.Electrodecomposition_cathode_opt1(NMC_cathode.name,\n",
    "                                                       3.3, # areal capacity\n",
    "                                                       0.95, # active frac\n",
    "                                                       3.4, # density\n",
    "                                                       NMC_cathode\n",
    "                                                      ) # NMC = 3.4 / LFP = 2.5\n",
    "positive_LFP = Cellmodel.Electrodecomposition_cathode_opt1(LFP_cathode.name, \n",
    "                                                        2.5, \n",
    "                                                        0.95, \n",
    "                                                        2.5, \n",
    "                                                        LFP_cathode\n",
    "                                                        ) # NMC = 3.4 / LFP = 2.5\n",
    "negative = Cellmodel.Electrodecomposition_anode_opt1( Gr.name , 3.3*1.1 , 0.965 , 1.6, Gr)"
   ]
  },
  {
   "cell_type": "markdown",
   "id": "a0bf9895",
   "metadata": {},
   "source": [
    "### Cylindrical"
   ]
  },
  {
   "cell_type": "code",
   "execution_count": 22,
   "id": "a9eb6cac",
   "metadata": {},
   "outputs": [],
   "source": [
    "NMC_Gr_cyl = Cellmodel.Cylindrical(\"NMC-Gr_Cyl\", \n",
    "                               positive_NMC, \n",
    "                               negative, \n",
    "                               Separator_standard , \n",
    "                               LP40_standard,\n",
    "                               1.7, # electrolyte content mL/mAh\n",
    "                               4.6, # diameter\n",
    "                               8.0, # height \n",
    "                               0.0165, # can thickness\n",
    "                               7.9, # can density\n",
    "                               0.15, # void diameter\n",
    "                               0.4, # head space\n",
    "                               4, # extra mass\n",
    "                               0.94, # LLI\n",
    "                               NMC_cathode, \n",
    "                               Gr, \n",
    "                               Al, \n",
    "                               Cu)"
   ]
  },
  {
   "cell_type": "code",
   "execution_count": 23,
   "id": "2c5de896",
   "metadata": {},
   "outputs": [
    {
     "data": {
      "text/plain": [
       "4199.490203027328"
      ]
     },
     "execution_count": 23,
     "metadata": {},
     "output_type": "execute_result"
    }
   ],
   "source": [
    "NMC_Gr_cyl.jr_area"
   ]
  },
  {
   "cell_type": "code",
   "execution_count": 24,
   "id": "51f4edc7",
   "metadata": {},
   "outputs": [
    {
     "data": {
      "text/plain": [
       "75.82406919653891"
      ]
     },
     "execution_count": 24,
     "metadata": {},
     "output_type": "execute_result"
    }
   ],
   "source": [
    "NMC_Gr_cyl.turns"
   ]
  },
  {
   "cell_type": "code",
   "execution_count": 25,
   "id": "fb4f73a2",
   "metadata": {},
   "outputs": [
    {
     "data": {
      "text/plain": [
       "0.00523934270064301"
      ]
     },
     "execution_count": 25,
     "metadata": {},
     "output_type": "execute_result"
    }
   ],
   "source": [
    "positive_NMC.thickness_el_c"
   ]
  },
  {
   "cell_type": "code",
   "execution_count": 26,
   "id": "3dbbba5f",
   "metadata": {},
   "outputs": [
    {
     "data": {
      "text/plain": [
       "96.13792134025589"
      ]
     },
     "execution_count": 26,
     "metadata": {},
     "output_type": "execute_result"
    }
   ],
   "source": [
    "NMC_Gr_cyl.energy"
   ]
  },
  {
   "cell_type": "code",
   "execution_count": 27,
   "id": "dc33c3ee",
   "metadata": {},
   "outputs": [
    {
     "data": {
      "text/plain": [
       "26.053637219581542"
      ]
     },
     "execution_count": 27,
     "metadata": {},
     "output_type": "execute_result"
    }
   ],
   "source": [
    "NMC_Gr_cyl.capacity"
   ]
  },
  {
   "cell_type": "markdown",
   "id": "8120f320",
   "metadata": {},
   "source": [
    "Seems to fit well to the Tesla 4680 NMC811 cell https://insideevs.com/news/598656/tesla-4680-battery-cell-specs/ "
   ]
  },
  {
   "cell_type": "markdown",
   "id": "3459b95f",
   "metadata": {},
   "source": [
    "### Prismatic"
   ]
  },
  {
   "cell_type": "code",
   "execution_count": 119,
   "id": "e217e939",
   "metadata": {},
   "outputs": [],
   "source": [
    "LFP_Gr_prismatic = Cellmodel.Prismatic(\"LFP-Gr_Pris\", \n",
    "                                       positive_LFP, \n",
    "                                       negative, \n",
    "                                       Separator_standard, \n",
    "                                       LP40_standard, \n",
    "                                       1.7, # electrolyte ratio mL / mAh\n",
    "                                       17.2, # height\n",
    "                                       20.6, # width \n",
    "                                       7.2, # depth\n",
    "                                       0.01, # can thickness\n",
    "                                       7.9, # can density\n",
    "                                       1, # terminal clearance\n",
    "                                       18, # nrolls\n",
    "                                       40, # extramass\n",
    "                                       0.94, # LLI\n",
    "                                       LFP_cathode, \n",
    "                                       Gr, \n",
    "                                       Al, \n",
    "                                       Cu)"
   ]
  },
  {
   "cell_type": "code",
   "execution_count": 120,
   "id": "f810ca21",
   "metadata": {},
   "outputs": [
    {
     "data": {
      "text/plain": [
       "59879.53990627049"
      ]
     },
     "execution_count": 120,
     "metadata": {},
     "output_type": "execute_result"
    }
   ],
   "source": [
    "LFP_Gr_prismatic.jr_area"
   ]
  },
  {
   "cell_type": "code",
   "execution_count": 121,
   "id": "5fda2437",
   "metadata": {},
   "outputs": [
    {
     "data": {
      "text/plain": [
       "5.797544652112828"
      ]
     },
     "execution_count": 121,
     "metadata": {},
     "output_type": "execute_result"
    }
   ],
   "source": [
    "LFP_Gr_prismatic.turns"
   ]
  },
  {
   "cell_type": "code",
   "execution_count": 122,
   "id": "d97c324e",
   "metadata": {},
   "outputs": [
    {
     "data": {
      "text/plain": [
       "880.8879115611451"
      ]
     },
     "execution_count": 122,
     "metadata": {},
     "output_type": "execute_result"
    }
   ],
   "source": [
    "LFP_Gr_prismatic.energy"
   ]
  },
  {
   "cell_type": "code",
   "execution_count": 123,
   "id": "bb3b163d",
   "metadata": {},
   "outputs": [
    {
     "data": {
      "text/plain": [
       "281.43383755947127"
      ]
     },
     "execution_count": 123,
     "metadata": {},
     "output_type": "execute_result"
    }
   ],
   "source": [
    "LFP_Gr_prismatic.capacity"
   ]
  },
  {
   "cell_type": "markdown",
   "id": "3a38529e",
   "metadata": {},
   "source": [
    "Seems to fit to the CATL 280 Ah cell https://www.evlithium.com/CATL-Battery-Cell/catl-lifepo4-battery-280ah.html "
   ]
  },
  {
   "cell_type": "code",
   "execution_count": null,
   "id": "322e7af5",
   "metadata": {},
   "outputs": [],
   "source": []
  }
 ],
 "metadata": {
  "kernelspec": {
   "display_name": "Python 3 (ipykernel)",
   "language": "python",
   "name": "python3"
  },
  "language_info": {
   "codemirror_mode": {
    "name": "ipython",
    "version": 3
   },
   "file_extension": ".py",
   "mimetype": "text/x-python",
   "name": "python",
   "nbconvert_exporter": "python",
   "pygments_lexer": "ipython3",
   "version": "3.9.13"
  }
 },
 "nbformat": 4,
 "nbformat_minor": 5
}
