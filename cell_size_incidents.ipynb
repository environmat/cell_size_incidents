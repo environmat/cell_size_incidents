{
 "cells": [
  {
   "cell_type": "code",
   "execution_count": 1,
   "id": "809c4465",
   "metadata": {},
   "outputs": [],
   "source": [
    "import sys\n",
    "sys.path.insert(0, '/home/matthias/Documents/GitHub/Cell_model_energy_costs')\n",
    "import cell_model as Cellmodel\n",
    "import pandas as pd"
   ]
  },
  {
   "cell_type": "markdown",
   "id": "87073ace",
   "metadata": {},
   "source": [
    "## Making the cells"
   ]
  },
  {
   "cell_type": "code",
   "execution_count": 2,
   "id": "1440e849",
   "metadata": {},
   "outputs": [],
   "source": [
    "# Active materials\n",
    "NMC_cathode = Cellmodel.Activematerial_cathode(\"NMC811\" , 195, 3.86)\n",
    "LFP_cathode = Cellmodel.Activematerial_cathode(\"LFP\", 155, 3.3)\n",
    "Gr = Cellmodel.Activematerial_anode(\"Gr\", 344 , 0.17)\n",
    "\n",
    "# Currentcollectors \n",
    "Al = Cellmodel.CurrentCollector_cathode(\"Al\", 14e-4 , 2.76)\n",
    "Cu = Cellmodel.CurrentCollector_anode(\"Cu\", 8e-4 , 8.96)\n",
    "\n",
    "# Electrolyte \n",
    "LP40_standard = Cellmodel.Electrolyte_liquid(\"LiPF6\" , \"EC:DMC\",\n",
    "                                      1.1, # concentration mol / L\n",
    "                                      151.9 # MolarMass LiPF6\n",
    "                                      )\n",
    "\n",
    "# Separator\n",
    "Separator_standard = Cellmodel.Separator(\"PP+Al\" , 12e-4 , 0.44 , 1.18)\n",
    "\n",
    "# Electrods \n",
    "positive_NMC = Cellmodel.Electrodecomposition_cathode_opt1(NMC_cathode.name,\n",
    "                                                       5.4, # areal capacity\n",
    "                                                       0.95, # active frac\n",
    "                                                       3.4, # density\n",
    "                                                       NMC_cathode\n",
    "                                                      ) # NMC = 3.4 / LFP = 2.5\n",
    "positive_LFP = Cellmodel.Electrodecomposition_cathode_opt1(LFP_cathode.name, \n",
    "                                                        3, \n",
    "                                                        0.92, \n",
    "                                                        2.5, \n",
    "                                                        LFP_cathode\n",
    "                                                        ) # NMC = 3.4 / LFP = 2.5\n",
    "negative_NMC = Cellmodel.Electrodecomposition_anode_opt1( Gr.name , positive_NMC.areal_cap*1.1 , 0.965 , 1.6, Gr)\n",
    "negative_LFP = Cellmodel.Electrodecomposition_anode_opt1( Gr.name , positive_LFP.areal_cap*1.1 , 0.965 , 1.6, Gr)"
   ]
  },
  {
   "cell_type": "markdown",
   "id": "19353811",
   "metadata": {},
   "source": [
    "* The NMC cathode needs to be quite thick, so 5 mAh / cm2 gives about 80 micrometer"
   ]
  },
  {
   "cell_type": "markdown",
   "id": "a0bf9895",
   "metadata": {},
   "source": [
    "### Cylindrical"
   ]
  },
  {
   "cell_type": "code",
   "execution_count": 3,
   "id": "a9eb6cac",
   "metadata": {},
   "outputs": [],
   "source": [
    "NMC_Gr_cyl = Cellmodel.Cylindrical(\"NMC-Gr_Cyl\", \n",
    "                               positive_NMC, \n",
    "                               negative_NMC, \n",
    "                               Separator_standard , \n",
    "                               LP40_standard,\n",
    "                               1.7, # electrolyte content mL/mAh\n",
    "                               4.6, # diameter\n",
    "                               8.0, # height \n",
    "                               0.06, # can thickness\n",
    "                               7.9, # can density\n",
    "                               0.3, # void diameter\n",
    "                               0.6, # head space\n",
    "                               4, # extra mass\n",
    "                               0.94, # LLI\n",
    "                               NMC_cathode, \n",
    "                               Gr, \n",
    "                               Al, \n",
    "                               Cu)"
   ]
  },
  {
   "cell_type": "code",
   "execution_count": 4,
   "id": "3499496b",
   "metadata": {},
   "outputs": [
    {
     "data": {
      "text/plain": [
       "148.77319999999997"
      ]
     },
     "execution_count": 4,
     "metadata": {},
     "output_type": "execute_result"
    }
   ],
   "source": [
    "cylindrical_surf_area = 2 * 3.14 * (NMC_Gr_cyl.diameter/2) * NMC_Gr_cyl.height \\\n",
    "                        + 2 * (3.14 * (NMC_Gr_cyl.diameter/2)**2)\n",
    "cylindrical_surf_area"
   ]
  },
  {
   "cell_type": "code",
   "execution_count": 5,
   "id": "2c5de896",
   "metadata": {},
   "outputs": [
    {
     "data": {
      "text/plain": [
       "2488.308195845172"
      ]
     },
     "execution_count": 5,
     "metadata": {},
     "output_type": "execute_result"
    }
   ],
   "source": [
    "NMC_Gr_cyl.jr_area"
   ]
  },
  {
   "cell_type": "code",
   "execution_count": 6,
   "id": "51f4edc7",
   "metadata": {},
   "outputs": [
    {
     "data": {
      "text/plain": [
       "46.37715059996704"
      ]
     },
     "execution_count": 6,
     "metadata": {},
     "output_type": "execute_result"
    }
   ],
   "source": [
    "NMC_Gr_cyl.turns"
   ]
  },
  {
   "cell_type": "code",
   "execution_count": 7,
   "id": "fb4f73a2",
   "metadata": {},
   "outputs": [
    {
     "data": {
      "text/plain": [
       "0.008573469873779471"
      ]
     },
     "execution_count": 7,
     "metadata": {},
     "output_type": "execute_result"
    }
   ],
   "source": [
    "positive_NMC.thickness_el_c"
   ]
  },
  {
   "cell_type": "code",
   "execution_count": 8,
   "id": "3dbbba5f",
   "metadata": {},
   "outputs": [
    {
     "data": {
      "text/plain": [
       "93.21421472757248"
      ]
     },
     "execution_count": 8,
     "metadata": {},
     "output_type": "execute_result"
    }
   ],
   "source": [
    "NMC_Gr_cyl.energy"
   ]
  },
  {
   "cell_type": "code",
   "execution_count": 9,
   "id": "dc33c3ee",
   "metadata": {},
   "outputs": [
    {
     "data": {
      "text/plain": [
       "25.261304804220185"
      ]
     },
     "execution_count": 9,
     "metadata": {},
     "output_type": "execute_result"
    }
   ],
   "source": [
    "NMC_Gr_cyl.capacity"
   ]
  },
  {
   "cell_type": "code",
   "execution_count": 10,
   "id": "7f6bbe67",
   "metadata": {},
   "outputs": [
    {
     "data": {
      "text/plain": [
       "0.9548656408266879"
      ]
     },
     "execution_count": 10,
     "metadata": {},
     "output_type": "execute_result"
    }
   ],
   "source": [
    "2376/NMC_Gr_cyl.jr_area"
   ]
  },
  {
   "cell_type": "code",
   "execution_count": 11,
   "id": "bc5da32d",
   "metadata": {},
   "outputs": [
    {
     "data": {
      "text/plain": [
       "2.2371411534617396"
      ]
     },
     "execution_count": 11,
     "metadata": {},
     "output_type": "execute_result"
    }
   ],
   "source": [
    "Module_40V_in_kWh_4680 = 12 * (NMC_Gr_cyl.energy/NMC_Gr_cyl.capacity) * (2 * NMC_Gr_cyl.capacity) / 1000\n",
    "Module_40V_in_kWh_4680 "
   ]
  },
  {
   "cell_type": "markdown",
   "id": "8120f320",
   "metadata": {},
   "source": [
    "Seems to fit well to the Tesla 4680 NMC811 cell https://insideevs.com/news/598656/tesla-4680-battery-cell-specs/ "
   ]
  },
  {
   "cell_type": "markdown",
   "id": "3459b95f",
   "metadata": {},
   "source": [
    "### Prismatic 280 Ah"
   ]
  },
  {
   "cell_type": "code",
   "execution_count": 12,
   "id": "e217e939",
   "metadata": {},
   "outputs": [],
   "source": [
    "LFP_Gr_prismatic = Cellmodel.Prismatic(\"LFP-Gr_Pris\", \n",
    "                                       positive_LFP, \n",
    "                                       negative_LFP, \n",
    "                                       Separator_standard, \n",
    "                                       LP40_standard, \n",
    "                                       1.7, # electrolyte ratio mL / mAh\n",
    "                                       17, # height\n",
    "                                       20, # width \n",
    "                                       7, # depth\n",
    "                                       0.35, # can thickness in cm\n",
    "                                       7.9, # can density\n",
    "                                       2, # terminal clearance\n",
    "                                       4, # nrolls\n",
    "                                       40, # 4xtramass\n",
    "                                       0.94, # LLI\n",
    "                                       LFP_cathode, \n",
    "                                       Gr, \n",
    "                                       Al, \n",
    "                                       Cu)\n",
    "\n",
    "# CATL dimensions 173.9*71.7*207.2"
   ]
  },
  {
   "cell_type": "markdown",
   "id": "f7b5a064",
   "metadata": {},
   "source": [
    "Assuming 4 jelly roll in the prismatic can"
   ]
  },
  {
   "cell_type": "code",
   "execution_count": 13,
   "id": "b345b5e8",
   "metadata": {},
   "outputs": [
    {
     "data": {
      "text/plain": [
       "4729.940093127769"
      ]
     },
     "execution_count": 13,
     "metadata": {},
     "output_type": "execute_result"
    }
   ],
   "source": [
    "prismatic_surf_area = 2 * (LFP_Gr_prismatic.length * LFP_Gr_prismatic.width) \\\n",
    "                        + 2 * (LFP_Gr_prismatic.length * LFP_Gr_prismatic.height) \\\n",
    "                        + 2 * (LFP_Gr_prismatic.width * LFP_Gr_prismatic. height) \n",
    "prismatic_surf_area"
   ]
  },
  {
   "cell_type": "code",
   "execution_count": 14,
   "id": "f810ca21",
   "metadata": {},
   "outputs": [
    {
     "data": {
      "text/plain": [
       "51933.65521064414"
      ]
     },
     "execution_count": 14,
     "metadata": {},
     "output_type": "execute_result"
    }
   ],
   "source": [
    "LFP_Gr_prismatic.jr_area"
   ]
  },
  {
   "cell_type": "code",
   "execution_count": 15,
   "id": "5fda2437",
   "metadata": {},
   "outputs": [
    {
     "data": {
      "text/plain": [
       "22.680193499029947"
      ]
     },
     "execution_count": 15,
     "metadata": {},
     "output_type": "execute_result"
    }
   ],
   "source": [
    "LFP_Gr_prismatic.turns"
   ]
  },
  {
   "cell_type": "code",
   "execution_count": 16,
   "id": "98a34819",
   "metadata": {},
   "outputs": [
    {
     "data": {
      "text/plain": [
       "0.008415147265077139"
      ]
     },
     "execution_count": 16,
     "metadata": {},
     "output_type": "execute_result"
    }
   ],
   "source": [
    "positive_LFP.thickness_el_c"
   ]
  },
  {
   "cell_type": "code",
   "execution_count": 17,
   "id": "d97c324e",
   "metadata": {},
   "outputs": [
    {
     "data": {
      "text/plain": [
       "916.795202164543"
      ]
     },
     "execution_count": 17,
     "metadata": {},
     "output_type": "execute_result"
    }
   ],
   "source": [
    "LFP_Gr_prismatic.energy"
   ]
  },
  {
   "cell_type": "code",
   "execution_count": 18,
   "id": "bb3b163d",
   "metadata": {},
   "outputs": [
    {
     "data": {
      "text/plain": [
       "292.9058153880329"
      ]
     },
     "execution_count": 18,
     "metadata": {},
     "output_type": "execute_result"
    }
   ],
   "source": [
    "LFP_Gr_prismatic.capacity"
   ]
  },
  {
   "cell_type": "code",
   "execution_count": 19,
   "id": "88ed4985",
   "metadata": {},
   "outputs": [
    {
     "data": {
      "text/plain": [
       "0.9559386850311057"
      ]
     },
     "execution_count": 19,
     "metadata": {},
     "output_type": "execute_result"
    }
   ],
   "source": [
    "280/LFP_Gr_prismatic.capacity"
   ]
  },
  {
   "cell_type": "code",
   "execution_count": 20,
   "id": "3d1208a4",
   "metadata": {},
   "outputs": [
    {
     "data": {
      "text/plain": [
       "22.003084851949037"
      ]
     },
     "execution_count": 20,
     "metadata": {},
     "output_type": "execute_result"
    }
   ],
   "source": [
    "Module_40V_in_kWh_280 = 12 * (LFP_Gr_prismatic.energy/LFP_Gr_prismatic.capacity) * (2 * LFP_Gr_prismatic.capacity) / 1000\n",
    "Module_40V_in_kWh_280 "
   ]
  },
  {
   "cell_type": "markdown",
   "id": "3a38529e",
   "metadata": {},
   "source": [
    "Seems to fit to the CATL 280 Ah cell \n",
    "* https://www.evlithium.com/CATL-Battery-Cell/catl-lifepo4-battery-280ah.html \n",
    "* https://www.catl.com/en/uploads/1/file/public/202205/20220512225901_d0k23qtykm.pdf"
   ]
  },
  {
   "cell_type": "markdown",
   "id": "ba4e15a0",
   "metadata": {},
   "source": [
    "### Prismatic 560 Ah"
   ]
  },
  {
   "cell_type": "code",
   "execution_count": 21,
   "id": "2ab3657a",
   "metadata": {},
   "outputs": [],
   "source": [
    "LFP_Gr_prismatic_560 = Cellmodel.Prismatic(\"LFP-Gr_Pris\", \n",
    "                                       positive_LFP, \n",
    "                                       negative_LFP, \n",
    "                                       Separator_standard, \n",
    "                                       LP40_standard, \n",
    "                                       1.7, # electrolyte ratio mL / mAh\n",
    "                                       17, # height\n",
    "                                       20*2, # width \n",
    "                                       7, # depth\n",
    "                                       0.5, # can thickness\n",
    "                                       7.9, # can density\n",
    "                                       2, # terminal clearance\n",
    "                                       4, # nrolls\n",
    "                                       40, # extramass\n",
    "                                       0.94, # LLI\n",
    "                                       LFP_cathode, \n",
    "                                       Gr, \n",
    "                                       Al, \n",
    "                                       Cu)"
   ]
  },
  {
   "cell_type": "markdown",
   "id": "9283240b",
   "metadata": {},
   "source": [
    "Assuming only 4 jelly roll in the prismatic can"
   ]
  },
  {
   "cell_type": "code",
   "execution_count": 22,
   "id": "86c91680",
   "metadata": {},
   "outputs": [
    {
     "data": {
      "text/plain": [
       "7004.753155294742"
      ]
     },
     "execution_count": 22,
     "metadata": {},
     "output_type": "execute_result"
    }
   ],
   "source": [
    "prismatic_surf_area_560 = 2 * (LFP_Gr_prismatic_560.length * LFP_Gr_prismatic_560.width) \\\n",
    "                        + 2 * (LFP_Gr_prismatic_560.length * LFP_Gr_prismatic_560.height) \\\n",
    "                        + 2 * (LFP_Gr_prismatic_560.width * LFP_Gr_prismatic_560. height) \n",
    "prismatic_surf_area_560"
   ]
  },
  {
   "cell_type": "code",
   "execution_count": 23,
   "id": "63459cf5",
   "metadata": {},
   "outputs": [
    {
     "data": {
      "text/plain": [
       "99998.48271331302"
      ]
     },
     "execution_count": 23,
     "metadata": {},
     "output_type": "execute_result"
    }
   ],
   "source": [
    "LFP_Gr_prismatic_560.jr_area"
   ]
  },
  {
   "cell_type": "code",
   "execution_count": 24,
   "id": "2092df6a",
   "metadata": {},
   "outputs": [
    {
     "data": {
      "text/plain": [
       "21.572577219450917"
      ]
     },
     "execution_count": 24,
     "metadata": {},
     "output_type": "execute_result"
    }
   ],
   "source": [
    "LFP_Gr_prismatic_560.turns"
   ]
  },
  {
   "cell_type": "code",
   "execution_count": 25,
   "id": "1d0e5b41",
   "metadata": {},
   "outputs": [
    {
     "data": {
      "text/plain": [
       "1765.2932150346574"
      ]
     },
     "execution_count": 25,
     "metadata": {},
     "output_type": "execute_result"
    }
   ],
   "source": [
    "LFP_Gr_prismatic_560.energy"
   ]
  },
  {
   "cell_type": "code",
   "execution_count": 26,
   "id": "4a151298",
   "metadata": {},
   "outputs": [
    {
     "data": {
      "text/plain": [
       "563.9914425030854"
      ]
     },
     "execution_count": 26,
     "metadata": {},
     "output_type": "execute_result"
    }
   ],
   "source": [
    "LFP_Gr_prismatic_560.capacity"
   ]
  },
  {
   "cell_type": "code",
   "execution_count": 27,
   "id": "53f1a222",
   "metadata": {},
   "outputs": [
    {
     "data": {
      "text/plain": [
       "42.36703716083178"
      ]
     },
     "execution_count": 27,
     "metadata": {},
     "output_type": "execute_result"
    }
   ],
   "source": [
    "Module_40V_in_kWh_560 = 12 * (LFP_Gr_prismatic_560.energy/LFP_Gr_prismatic_560.capacity) * (2 * LFP_Gr_prismatic_560.capacity) / 1000\n",
    "Module_40V_in_kWh_560 "
   ]
  },
  {
   "cell_type": "markdown",
   "id": "670de47f",
   "metadata": {},
   "source": [
    "Seems to be in an reasonable range compared to the reported values for the EVE cell\n",
    "* https://www.takomabattery.com/eve-releases-560ah-large-capacity-energy-storage-battery-lf560k/\n"
   ]
  },
  {
   "cell_type": "markdown",
   "id": "337223ff",
   "metadata": {},
   "source": [
    "### Prismatic 280 Ah - NMC"
   ]
  },
  {
   "cell_type": "code",
   "execution_count": 28,
   "id": "f9efaaac",
   "metadata": {},
   "outputs": [],
   "source": [
    "NMC_Gr_prismatic = Cellmodel.Prismatic(\"NMC-Gr_Pris\", \n",
    "                                       positive_NMC, \n",
    "                                       negative_NMC, \n",
    "                                       Separator_standard, \n",
    "                                       LP40_standard, \n",
    "                                       1.7, # electrolyte ratio mL / mAh\n",
    "                                       17, # height\n",
    "                                       20, # width \n",
    "                                       7, # depth\n",
    "                                       0.35, # can thickness in cm\n",
    "                                       7.9, # can density\n",
    "                                       2, # terminal clearance\n",
    "                                       4, # nrolls\n",
    "                                       40, # 4xtramass\n",
    "                                       0.94, # LLI\n",
    "                                       NMC_cathode, \n",
    "                                       Gr, \n",
    "                                       Al, \n",
    "                                       Cu)\n",
    "\n",
    "# CATL dimensions 173.9*71.7*207.2"
   ]
  },
  {
   "cell_type": "code",
   "execution_count": 29,
   "id": "6d4cd422",
   "metadata": {},
   "outputs": [
    {
     "data": {
      "text/plain": [
       "40080.238878405646"
      ]
     },
     "execution_count": 29,
     "metadata": {},
     "output_type": "execute_result"
    }
   ],
   "source": [
    "NMC_Gr_prismatic.jr_area"
   ]
  },
  {
   "cell_type": "code",
   "execution_count": 30,
   "id": "3d22db95",
   "metadata": {},
   "outputs": [
    {
     "data": {
      "text/plain": [
       "17.290233392753173"
      ]
     },
     "execution_count": 30,
     "metadata": {},
     "output_type": "execute_result"
    }
   ],
   "source": [
    "NMC_Gr_prismatic.turns"
   ]
  },
  {
   "cell_type": "code",
   "execution_count": 31,
   "id": "9d3de320",
   "metadata": {},
   "outputs": [
    {
     "data": {
      "text/plain": [
       "0.008573469873779471"
      ]
     },
     "execution_count": 31,
     "metadata": {},
     "output_type": "execute_result"
    }
   ],
   "source": [
    "positive_NMC.thickness_el_c"
   ]
  },
  {
   "cell_type": "code",
   "execution_count": 32,
   "id": "17fddb69",
   "metadata": {},
   "outputs": [
    {
     "data": {
      "text/plain": [
       "1501.4410189952882"
      ]
     },
     "execution_count": 32,
     "metadata": {},
     "output_type": "execute_result"
    }
   ],
   "source": [
    "NMC_Gr_prismatic.energy"
   ]
  },
  {
   "cell_type": "code",
   "execution_count": 33,
   "id": "5626e21f",
   "metadata": {},
   "outputs": [
    {
     "data": {
      "text/plain": [
       "406.89458509357405"
      ]
     },
     "execution_count": 33,
     "metadata": {},
     "output_type": "execute_result"
    }
   ],
   "source": [
    "NMC_Gr_prismatic.capacity"
   ]
  },
  {
   "cell_type": "markdown",
   "id": "c7a4b05d",
   "metadata": {},
   "source": [
    "Assuming you would put an NMC-Gr chemistry in the dimensions of the 280 Ah LFP battery housing, you would end up with more than 400 Ah. "
   ]
  },
  {
   "cell_type": "markdown",
   "id": "34309dcf",
   "metadata": {},
   "source": [
    "## Combining info"
   ]
  },
  {
   "cell_type": "code",
   "execution_count": 37,
   "id": "a562eaa7",
   "metadata": {},
   "outputs": [
    {
     "data": {
      "text/html": [
       "<div>\n",
       "<style scoped>\n",
       "    .dataframe tbody tr th:only-of-type {\n",
       "        vertical-align: middle;\n",
       "    }\n",
       "\n",
       "    .dataframe tbody tr th {\n",
       "        vertical-align: top;\n",
       "    }\n",
       "\n",
       "    .dataframe thead th {\n",
       "        text-align: right;\n",
       "    }\n",
       "</style>\n",
       "<table border=\"1\" class=\"dataframe\">\n",
       "  <thead>\n",
       "    <tr style=\"text-align: right;\">\n",
       "      <th></th>\n",
       "      <th>Cylindric 4680</th>\n",
       "      <th>Prismatic 280Ah</th>\n",
       "      <th>Prismatic 560Ah</th>\n",
       "    </tr>\n",
       "  </thead>\n",
       "  <tbody>\n",
       "    <tr>\n",
       "      <th>Jelly Roll Area in cm2</th>\n",
       "      <td>2488.31</td>\n",
       "      <td>51933.66</td>\n",
       "      <td>99998.48</td>\n",
       "    </tr>\n",
       "    <tr>\n",
       "      <th>Turns in #</th>\n",
       "      <td>46.38</td>\n",
       "      <td>22.68</td>\n",
       "      <td>21.57</td>\n",
       "    </tr>\n",
       "    <tr>\n",
       "      <th>Capacity in Ah</th>\n",
       "      <td>25.26</td>\n",
       "      <td>292.91</td>\n",
       "      <td>563.99</td>\n",
       "    </tr>\n",
       "    <tr>\n",
       "      <th>Energy in Wh</th>\n",
       "      <td>93.21</td>\n",
       "      <td>916.80</td>\n",
       "      <td>1765.29</td>\n",
       "    </tr>\n",
       "    <tr>\n",
       "      <th>Length of electrode sheets in cm</th>\n",
       "      <td>341.80</td>\n",
       "      <td>54.73</td>\n",
       "      <td>49.52</td>\n",
       "    </tr>\n",
       "    <tr>\n",
       "      <th>Outer Surface Area in cm2</th>\n",
       "      <td>148.77</td>\n",
       "      <td>4729.94</td>\n",
       "      <td>7004.75</td>\n",
       "    </tr>\n",
       "    <tr>\n",
       "      <th>Jelly Rol Area per Energy in cm2/Wh</th>\n",
       "      <td>26.69</td>\n",
       "      <td>56.65</td>\n",
       "      <td>56.65</td>\n",
       "    </tr>\n",
       "    <tr>\n",
       "      <th>Turns per Energy in #/Wh</th>\n",
       "      <td>0.50</td>\n",
       "      <td>0.02</td>\n",
       "      <td>0.01</td>\n",
       "    </tr>\n",
       "    <tr>\n",
       "      <th>Outer Surface Area per Energy in cm2/Wh</th>\n",
       "      <td>1.60</td>\n",
       "      <td>5.16</td>\n",
       "      <td>3.97</td>\n",
       "    </tr>\n",
       "    <tr>\n",
       "      <th>Length of electrode per Energy in cm/Wh</th>\n",
       "      <td>3.67</td>\n",
       "      <td>0.06</td>\n",
       "      <td>0.03</td>\n",
       "    </tr>\n",
       "    <tr>\n",
       "      <th>Energy of 40V-Module_12s2p in kWh</th>\n",
       "      <td>2.24</td>\n",
       "      <td>22.00</td>\n",
       "      <td>42.37</td>\n",
       "    </tr>\n",
       "  </tbody>\n",
       "</table>\n",
       "</div>"
      ],
      "text/plain": [
       "                                         Cylindric 4680  Prismatic 280Ah  \\\n",
       "Jelly Roll Area in cm2                          2488.31         51933.66   \n",
       "Turns in #                                        46.38            22.68   \n",
       "Capacity in Ah                                    25.26           292.91   \n",
       "Energy in Wh                                      93.21           916.80   \n",
       "Length of electrode sheets in cm                 341.80            54.73   \n",
       "Outer Surface Area in cm2                        148.77          4729.94   \n",
       "Jelly Rol Area per Energy in cm2/Wh               26.69            56.65   \n",
       "Turns per Energy in #/Wh                           0.50             0.02   \n",
       "Outer Surface Area per Energy in cm2/Wh            1.60             5.16   \n",
       "Length of electrode per Energy in cm/Wh            3.67             0.06   \n",
       "Energy of 40V-Module_12s2p in kWh                  2.24            22.00   \n",
       "\n",
       "                                         Prismatic 560Ah  \n",
       "Jelly Roll Area in cm2                          99998.48  \n",
       "Turns in #                                         21.57  \n",
       "Capacity in Ah                                    563.99  \n",
       "Energy in Wh                                     1765.29  \n",
       "Length of electrode sheets in cm                   49.52  \n",
       "Outer Surface Area in cm2                        7004.75  \n",
       "Jelly Rol Area per Energy in cm2/Wh                56.65  \n",
       "Turns per Energy in #/Wh                            0.01  \n",
       "Outer Surface Area per Energy in cm2/Wh             3.97  \n",
       "Length of electrode per Energy in cm/Wh             0.03  \n",
       "Energy of 40V-Module_12s2p in kWh                  42.37  "
      ]
     },
     "execution_count": 37,
     "metadata": {},
     "output_type": "execute_result"
    }
   ],
   "source": [
    "energy_pack = 100000 # Wh\n",
    "df_all = pd.DataFrame(index = ['Jelly Roll Area in cm2', \n",
    "                                'Turns in #', \n",
    "                                'Capacity in Ah', \n",
    "                                'Energy in Wh', \n",
    "                                'Length of electrode sheets in cm',\n",
    "                                'Outer Surface Area in cm2',\n",
    "                                'Jelly Rol Area per Energy in cm2/Wh',\n",
    "                                'Turns per Energy in #/Wh',\n",
    "                                'Outer Surface Area per Energy in cm2/Wh',\n",
    "                                'Length of electrode per Energy in cm/Wh',\n",
    "                                'Energy of 40V-Module_12s2p in kWh'])\n",
    "df_all['Cylindric 4680'] = [NMC_Gr_cyl.jr_area, \n",
    "                            NMC_Gr_cyl.turns, \n",
    "                            NMC_Gr_cyl.capacity,\n",
    "                            NMC_Gr_cyl.energy,\n",
    "                            NMC_Gr_cyl.length,\n",
    "                            cylindrical_surf_area, \n",
    "                            NMC_Gr_cyl.jr_area/NMC_Gr_cyl.energy,\n",
    "                            NMC_Gr_cyl.turns*1/(NMC_Gr_cyl.energy),\n",
    "                            cylindrical_surf_area/NMC_Gr_cyl.energy,\n",
    "                            NMC_Gr_cyl.length/NMC_Gr_cyl.energy,\n",
    "                            Module_40V_in_kWh_4680]\n",
    "df_all['Prismatic 280Ah'] = [LFP_Gr_prismatic.jr_area,\n",
    "                            LFP_Gr_prismatic.turns,\n",
    "                            LFP_Gr_prismatic.capacity,\n",
    "                            LFP_Gr_prismatic.energy,\n",
    "                            LFP_Gr_prismatic.length,\n",
    "                            prismatic_surf_area,\n",
    "                            LFP_Gr_prismatic.jr_area/LFP_Gr_prismatic.energy,\n",
    "                            LFP_Gr_prismatic.turns*1/(LFP_Gr_prismatic.energy),\n",
    "                            prismatic_surf_area/LFP_Gr_prismatic.energy,\n",
    "                            LFP_Gr_prismatic.length/LFP_Gr_prismatic.energy,\n",
    "                            Module_40V_in_kWh_280]\n",
    "df_all['Prismatic 560Ah'] = [LFP_Gr_prismatic_560.jr_area,\n",
    "                            LFP_Gr_prismatic_560.turns,\n",
    "                            LFP_Gr_prismatic_560.capacity,\n",
    "                            LFP_Gr_prismatic_560.energy,\n",
    "                            LFP_Gr_prismatic_560.length,\n",
    "                            prismatic_surf_area_560,\n",
    "                            LFP_Gr_prismatic_560.jr_area/LFP_Gr_prismatic_560.energy,\n",
    "                            LFP_Gr_prismatic_560.turns*1/(LFP_Gr_prismatic_560.energy),\n",
    "                            prismatic_surf_area_560/LFP_Gr_prismatic_560.energy,\n",
    "                            LFP_Gr_prismatic_560.length/LFP_Gr_prismatic_560.energy,\n",
    "                            Module_40V_in_kWh_560]\n",
    "df_all.round(decimals=2)"
   ]
  },
  {
   "cell_type": "markdown",
   "id": "607538a5",
   "metadata": {},
   "source": [
    "## Conclusions\n",
    "\n",
    "What really creates the risks from a manufacturing viewpoint: \n",
    "* large electrode sheets -> it becomes more challenging to produce highly uniform and defect free large areas \n",
    "* number of stacks / turns in one cell -> the processes are performed at high speed in large quantities, but the precision of each step needs to nearly perfect and electrode sheets and separator needs to be well aligned, the more proceses performed, the higher the chances one of these is less perfect \n",
    "* A 1° angle misalignment has a much larger impact on cells with very long electrode sheets. The fact, that large prismatic cells use several rolls within one housing reduces the length of each individual roll. \n",
    "\n",
    "What really creates the risks from a system viewpoint: \n",
    "* amount of cells per system -> chances are larger, that there is one faulty cell in one large battery pack \n",
    "* outer surface area per energy -> if the ratio of outer surface area to energy is large, there is a big surface available which can be used to cool the cell, with a small ratio, only low cooling power can be directed within the cell \n",
    "* energy content per cell -> small cells could potentially go into a thermal runaway, but a thermal propagation can still be avoided, since the shielding can prevent other cells to be come affected. If the cell contains too much energy, thermal shielding might not be capable to protect the other cells from going into thermal runaway \n",
    "\n",
    "\n",
    "What do we see for these different cell classes: \n",
    "* the 280 Ah cell format shows highest ratio of outer surface area to energy and so provides the largest area for potential cooling and heat convection \n",
    "* the 280 Ah cell format shows roughly the same amount of turns or stackings in the housing in absolut terms, meaning it does not create less risks induces by the turns / stackings compared to the 560 Ah format \n",
    "* Leveraring these large cells reduces the amount of cells needed for a battery pack / rack significantly "
   ]
  },
  {
   "cell_type": "code",
   "execution_count": null,
   "id": "08603990",
   "metadata": {},
   "outputs": [],
   "source": []
  }
 ],
 "metadata": {
  "kernelspec": {
   "display_name": "Python 3 (ipykernel)",
   "language": "python",
   "name": "python3"
  },
  "language_info": {
   "codemirror_mode": {
    "name": "ipython",
    "version": 3
   },
   "file_extension": ".py",
   "mimetype": "text/x-python",
   "name": "python",
   "nbconvert_exporter": "python",
   "pygments_lexer": "ipython3",
   "version": "3.9.13"
  }
 },
 "nbformat": 4,
 "nbformat_minor": 5
}
