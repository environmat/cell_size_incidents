{
 "cells": [
  {
   "cell_type": "markdown",
   "id": "ca8810f2",
   "metadata": {},
   "source": [
    "Steps\n",
    "* calculate size of electrode areas 4680 vs 280Ah vs 500Ah \n",
    "* determine number of windings / sheets \n",
    "* calculate number of current collector tabs \n",
    "* cell volume utilization ratio (electode-seperator-current_collector volume / cell can volume) --> why?\n",
    "* resistance / impedance to calculate Joule Heating IR² (only valid for external short circuit, not internal)\n"
   ]
  },
  {
   "cell_type": "code",
   "execution_count": 1,
   "id": "809c4465",
   "metadata": {},
   "outputs": [],
   "source": [
    "import sys\n",
    "sys.path.insert(0, '/home/matthias/Documents/GitHub/Cell_model_energy_costs')\n",
    "import cell_model as Cellmodel\n",
    "import pandas as pd"
   ]
  },
  {
   "cell_type": "markdown",
   "id": "87073ace",
   "metadata": {},
   "source": [
    "## Making the cells"
   ]
  },
  {
   "cell_type": "code",
   "execution_count": 2,
   "id": "1440e849",
   "metadata": {},
   "outputs": [],
   "source": [
    "# Active materials\n",
    "NMC_cathode = Cellmodel.Activematerial_cathode(\"NMC811\" , 195, 3.86)\n",
    "LFP_cathode = Cellmodel.Activematerial_cathode(\"LFP\", 155, 3.3)\n",
    "Gr = Cellmodel.Activematerial_anode(\"Gr\", 344 , 0.17)\n",
    "\n",
    "# Currentcollectors \n",
    "Al = Cellmodel.CurrentCollector_cathode(\"Al\", 14e-4 , 2.76)\n",
    "Cu = Cellmodel.CurrentCollector_anode(\"Cu\", 8e-4 , 8.96)\n",
    "\n",
    "# Electrolyte \n",
    "LP40_standard = Cellmodel.Electrolyte_liquid(\"LiPF6\" , \"EC:DMC\",\n",
    "                                      1.1, # concentration mol / L\n",
    "                                      151.9 # MolarMass LiPF6\n",
    "                                      )\n",
    "\n",
    "# Separator\n",
    "Separator_standard = Cellmodel.Separator(\"PP+Al\" , 12e-4 , 0.44 , 1.18)\n",
    "\n",
    "# Electrods \n",
    "positive_NMC = Cellmodel.Electrodecomposition_cathode_opt1(NMC_cathode.name,\n",
    "                                                       5.4, # areal capacity\n",
    "                                                       0.95, # active frac\n",
    "                                                       3.4, # density\n",
    "                                                       NMC_cathode\n",
    "                                                      ) # NMC = 3.4 / LFP = 2.5\n",
    "positive_LFP = Cellmodel.Electrodecomposition_cathode_opt1(LFP_cathode.name, \n",
    "                                                        3, \n",
    "                                                        0.92, \n",
    "                                                        2.5, \n",
    "                                                        LFP_cathode\n",
    "                                                        ) # NMC = 3.4 / LFP = 2.5\n",
    "negative_NMC = Cellmodel.Electrodecomposition_anode_opt1( Gr.name , positive_NMC.areal_cap*1.1 , 0.965 , 1.6, Gr)\n",
    "negative_LFP = Cellmodel.Electrodecomposition_anode_opt1( Gr.name , positive_LFP.areal_cap*1.1 , 0.965 , 1.6, Gr)"
   ]
  },
  {
   "cell_type": "markdown",
   "id": "19353811",
   "metadata": {},
   "source": [
    "* The NMC cathode needs to be quite thick, so 5 mAh / cm2 gives about 80 micrometer"
   ]
  },
  {
   "cell_type": "markdown",
   "id": "a0bf9895",
   "metadata": {},
   "source": [
    "### Cylindrical"
   ]
  },
  {
   "cell_type": "code",
   "execution_count": 3,
   "id": "a9eb6cac",
   "metadata": {},
   "outputs": [],
   "source": [
    "NMC_Gr_cyl = Cellmodel.Cylindrical(\"NMC-Gr_Cyl\", \n",
    "                               positive_NMC, \n",
    "                               negative_NMC, \n",
    "                               Separator_standard , \n",
    "                               LP40_standard,\n",
    "                               1.7, # electrolyte content mL/mAh\n",
    "                               4.6, # diameter\n",
    "                               8.0, # height \n",
    "                               0.06, # can thickness\n",
    "                               7.9, # can density\n",
    "                               0.3, # void diameter\n",
    "                               0.6, # head space\n",
    "                               4, # extra mass\n",
    "                               0.94, # LLI\n",
    "                               NMC_cathode, \n",
    "                               Gr, \n",
    "                               Al, \n",
    "                               Cu)"
   ]
  },
  {
   "cell_type": "code",
   "execution_count": 4,
   "id": "3499496b",
   "metadata": {},
   "outputs": [
    {
     "data": {
      "text/plain": [
       "148.77319999999997"
      ]
     },
     "execution_count": 4,
     "metadata": {},
     "output_type": "execute_result"
    }
   ],
   "source": [
    "cylindrical_surf_area = 2 * 3.14 * (NMC_Gr_cyl.diameter/2) * NMC_Gr_cyl.height \\\n",
    "                        + 2 * (3.14 * (NMC_Gr_cyl.diameter/2)**2)\n",
    "cylindrical_surf_area"
   ]
  },
  {
   "cell_type": "code",
   "execution_count": 5,
   "id": "2c5de896",
   "metadata": {},
   "outputs": [
    {
     "data": {
      "text/plain": [
       "2488.308195845172"
      ]
     },
     "execution_count": 5,
     "metadata": {},
     "output_type": "execute_result"
    }
   ],
   "source": [
    "NMC_Gr_cyl.jr_area"
   ]
  },
  {
   "cell_type": "code",
   "execution_count": 6,
   "id": "51f4edc7",
   "metadata": {},
   "outputs": [
    {
     "data": {
      "text/plain": [
       "46.37715059996704"
      ]
     },
     "execution_count": 6,
     "metadata": {},
     "output_type": "execute_result"
    }
   ],
   "source": [
    "NMC_Gr_cyl.turns"
   ]
  },
  {
   "cell_type": "code",
   "execution_count": 7,
   "id": "fb4f73a2",
   "metadata": {},
   "outputs": [
    {
     "data": {
      "text/plain": [
       "0.008573469873779471"
      ]
     },
     "execution_count": 7,
     "metadata": {},
     "output_type": "execute_result"
    }
   ],
   "source": [
    "positive_NMC.thickness_el_c"
   ]
  },
  {
   "cell_type": "code",
   "execution_count": 8,
   "id": "3dbbba5f",
   "metadata": {},
   "outputs": [
    {
     "data": {
      "text/plain": [
       "93.21421472757248"
      ]
     },
     "execution_count": 8,
     "metadata": {},
     "output_type": "execute_result"
    }
   ],
   "source": [
    "NMC_Gr_cyl.energy"
   ]
  },
  {
   "cell_type": "code",
   "execution_count": 9,
   "id": "dc33c3ee",
   "metadata": {},
   "outputs": [
    {
     "data": {
      "text/plain": [
       "25.261304804220185"
      ]
     },
     "execution_count": 9,
     "metadata": {},
     "output_type": "execute_result"
    }
   ],
   "source": [
    "NMC_Gr_cyl.capacity"
   ]
  },
  {
   "cell_type": "code",
   "execution_count": 10,
   "id": "7f6bbe67",
   "metadata": {},
   "outputs": [
    {
     "data": {
      "text/plain": [
       "0.9548656408266879"
      ]
     },
     "execution_count": 10,
     "metadata": {},
     "output_type": "execute_result"
    }
   ],
   "source": [
    "2376/NMC_Gr_cyl.jr_area"
   ]
  },
  {
   "cell_type": "markdown",
   "id": "8120f320",
   "metadata": {},
   "source": [
    "Seems to fit well to the Tesla 4680 NMC811 cell https://insideevs.com/news/598656/tesla-4680-battery-cell-specs/ "
   ]
  },
  {
   "cell_type": "markdown",
   "id": "3459b95f",
   "metadata": {},
   "source": [
    "### Prismatic 280 Ah"
   ]
  },
  {
   "cell_type": "code",
   "execution_count": 11,
   "id": "e217e939",
   "metadata": {},
   "outputs": [],
   "source": [
    "LFP_Gr_prismatic = Cellmodel.Prismatic(\"LFP-Gr_Pris\", \n",
    "                                       positive_LFP, \n",
    "                                       negative_LFP, \n",
    "                                       Separator_standard, \n",
    "                                       LP40_standard, \n",
    "                                       1.7, # electrolyte ratio mL / mAh\n",
    "                                       17, # height\n",
    "                                       20, # width \n",
    "                                       7, # depth\n",
    "                                       0.3, # can thickness in cm\n",
    "                                       7.9, # can density\n",
    "                                       2, # terminal clearance\n",
    "                                       1, # nrolls\n",
    "                                       40, # extramass\n",
    "                                       0.94, # LLI\n",
    "                                       LFP_cathode, \n",
    "                                       Gr, \n",
    "                                       Al, \n",
    "                                       Cu)\n",
    "\n",
    "# CATL dimensions 173.9*71.7*207.2"
   ]
  },
  {
   "cell_type": "markdown",
   "id": "f7b5a064",
   "metadata": {},
   "source": [
    "Assuming only 1 jelly roll in the prismatic can"
   ]
  },
  {
   "cell_type": "code",
   "execution_count": 12,
   "id": "b345b5e8",
   "metadata": {},
   "outputs": [
    {
     "data": {
      "text/plain": [
       "69938.81162105073"
      ]
     },
     "execution_count": 12,
     "metadata": {},
     "output_type": "execute_result"
    }
   ],
   "source": [
    "prismatic_surf_area = 2 * (LFP_Gr_prismatic.length * LFP_Gr_prismatic.width) \\\n",
    "                        + 2 * (LFP_Gr_prismatic.length * LFP_Gr_prismatic.height) \\\n",
    "                        + 2 * (LFP_Gr_prismatic.width * LFP_Gr_prismatic. height) \n",
    "prismatic_surf_area"
   ]
  },
  {
   "cell_type": "code",
   "execution_count": 13,
   "id": "f810ca21",
   "metadata": {},
   "outputs": [
    {
     "data": {
      "text/plain": [
       "52016.42830156434"
      ]
     },
     "execution_count": 13,
     "metadata": {},
     "output_type": "execute_result"
    }
   ],
   "source": [
    "LFP_Gr_prismatic.jr_area"
   ]
  },
  {
   "cell_type": "code",
   "execution_count": 14,
   "id": "5fda2437",
   "metadata": {},
   "outputs": [
    {
     "data": {
      "text/plain": [
       "93.80392686506475"
      ]
     },
     "execution_count": 14,
     "metadata": {},
     "output_type": "execute_result"
    }
   ],
   "source": [
    "LFP_Gr_prismatic.turns"
   ]
  },
  {
   "cell_type": "code",
   "execution_count": 15,
   "id": "98a34819",
   "metadata": {},
   "outputs": [
    {
     "data": {
      "text/plain": [
       "0.008415147265077139"
      ]
     },
     "execution_count": 15,
     "metadata": {},
     "output_type": "execute_result"
    }
   ],
   "source": [
    "positive_LFP.thickness_el_c"
   ]
  },
  {
   "cell_type": "code",
   "execution_count": 16,
   "id": "d97c324e",
   "metadata": {},
   "outputs": [
    {
     "data": {
      "text/plain": [
       "918.2564120931755"
      ]
     },
     "execution_count": 16,
     "metadata": {},
     "output_type": "execute_result"
    }
   ],
   "source": [
    "LFP_Gr_prismatic.energy"
   ]
  },
  {
   "cell_type": "code",
   "execution_count": 17,
   "id": "bb3b163d",
   "metadata": {},
   "outputs": [
    {
     "data": {
      "text/plain": [
       "293.37265562082285"
      ]
     },
     "execution_count": 17,
     "metadata": {},
     "output_type": "execute_result"
    }
   ],
   "source": [
    "LFP_Gr_prismatic.capacity"
   ]
  },
  {
   "cell_type": "code",
   "execution_count": 18,
   "id": "0a0a184c",
   "metadata": {},
   "outputs": [
    {
     "data": {
      "text/plain": [
       "0.9544175117734671"
      ]
     },
     "execution_count": 18,
     "metadata": {},
     "output_type": "execute_result"
    }
   ],
   "source": [
    "280/LFP_Gr_prismatic.capacity"
   ]
  },
  {
   "cell_type": "markdown",
   "id": "3a38529e",
   "metadata": {},
   "source": [
    "Seems to fit to the CATL 280 Ah cell \n",
    "* https://www.evlithium.com/CATL-Battery-Cell/catl-lifepo4-battery-280ah.html \n",
    "* https://www.catl.com/en/uploads/1/file/public/202205/20220512225901_d0k23qtykm.pdf"
   ]
  },
  {
   "cell_type": "markdown",
   "id": "ba4e15a0",
   "metadata": {},
   "source": [
    "### Prismatic 560 Ah"
   ]
  },
  {
   "cell_type": "code",
   "execution_count": 19,
   "id": "2ab3657a",
   "metadata": {},
   "outputs": [],
   "source": [
    "LFP_Gr_prismatic_560 = Cellmodel.Prismatic(\"LFP-Gr_Pris\", \n",
    "                                       positive_LFP, \n",
    "                                       negative_LFP, \n",
    "                                       Separator_standard, \n",
    "                                       LP40_standard, \n",
    "                                       1.7, # electrolyte ratio mL / mAh\n",
    "                                       17, # height\n",
    "                                       20*2, # width \n",
    "                                       7, # depth\n",
    "                                       0.5, # can thickness\n",
    "                                       7.9, # can density\n",
    "                                       2, # terminal clearance\n",
    "                                       1, # nrolls\n",
    "                                       40, # extramass\n",
    "                                       0.94, # LLI\n",
    "                                       LFP_cathode, \n",
    "                                       Gr, \n",
    "                                       Al, \n",
    "                                       Cu)"
   ]
  },
  {
   "cell_type": "markdown",
   "id": "9283240b",
   "metadata": {},
   "source": [
    "Assuming only 1 jelly roll in the prismatic can"
   ]
  },
  {
   "cell_type": "code",
   "execution_count": 20,
   "id": "86c91680",
   "metadata": {},
   "outputs": [
    {
     "data": {
      "text/plain": [
       "95041.0821223303"
      ]
     },
     "execution_count": 20,
     "metadata": {},
     "output_type": "execute_result"
    }
   ],
   "source": [
    "prismatic_surf_area_560 = 2 * (LFP_Gr_prismatic_560.length * LFP_Gr_prismatic_560.width) \\\n",
    "                        + 2 * (LFP_Gr_prismatic_560.length * LFP_Gr_prismatic_560.height) \\\n",
    "                        + 2 * (LFP_Gr_prismatic_560.width * LFP_Gr_prismatic_560. height) \n",
    "prismatic_surf_area_560"
   ]
  },
  {
   "cell_type": "code",
   "execution_count": 21,
   "id": "63459cf5",
   "metadata": {},
   "outputs": [
    {
     "data": {
      "text/plain": [
       "101097.77817399082"
      ]
     },
     "execution_count": 21,
     "metadata": {},
     "output_type": "execute_result"
    }
   ],
   "source": [
    "LFP_Gr_prismatic_560.jr_area"
   ]
  },
  {
   "cell_type": "code",
   "execution_count": 22,
   "id": "2092df6a",
   "metadata": {},
   "outputs": [
    {
     "data": {
      "text/plain": [
       "87.89664004064325"
      ]
     },
     "execution_count": 22,
     "metadata": {},
     "output_type": "execute_result"
    }
   ],
   "source": [
    "LFP_Gr_prismatic_560.turns"
   ]
  },
  {
   "cell_type": "code",
   "execution_count": 23,
   "id": "1d0e5b41",
   "metadata": {},
   "outputs": [
    {
     "data": {
      "text/plain": [
       "1784.6992976610945"
      ]
     },
     "execution_count": 23,
     "metadata": {},
     "output_type": "execute_result"
    }
   ],
   "source": [
    "LFP_Gr_prismatic_560.energy"
   ]
  },
  {
   "cell_type": "code",
   "execution_count": 24,
   "id": "4a151298",
   "metadata": {},
   "outputs": [
    {
     "data": {
      "text/plain": [
       "570.1914689013082"
      ]
     },
     "execution_count": 24,
     "metadata": {},
     "output_type": "execute_result"
    }
   ],
   "source": [
    "LFP_Gr_prismatic_560.capacity"
   ]
  },
  {
   "cell_type": "markdown",
   "id": "670de47f",
   "metadata": {},
   "source": [
    "Seems to be in an reasonable range compared to the reported values for the EVE cell\n",
    "* https://www.takomabattery.com/eve-releases-560ah-large-capacity-energy-storage-battery-lf560k/\n"
   ]
  },
  {
   "cell_type": "markdown",
   "id": "34309dcf",
   "metadata": {},
   "source": [
    "## Combining info"
   ]
  },
  {
   "cell_type": "code",
   "execution_count": 25,
   "id": "a562eaa7",
   "metadata": {},
   "outputs": [
    {
     "data": {
      "text/html": [
       "<div>\n",
       "<style scoped>\n",
       "    .dataframe tbody tr th:only-of-type {\n",
       "        vertical-align: middle;\n",
       "    }\n",
       "\n",
       "    .dataframe tbody tr th {\n",
       "        vertical-align: top;\n",
       "    }\n",
       "\n",
       "    .dataframe thead th {\n",
       "        text-align: right;\n",
       "    }\n",
       "</style>\n",
       "<table border=\"1\" class=\"dataframe\">\n",
       "  <thead>\n",
       "    <tr style=\"text-align: right;\">\n",
       "      <th></th>\n",
       "      <th>Cylindric 4680</th>\n",
       "      <th>Prismatic 280Ah</th>\n",
       "      <th>Prismatic 560Ah</th>\n",
       "    </tr>\n",
       "  </thead>\n",
       "  <tbody>\n",
       "    <tr>\n",
       "      <th>Jelly Roll Area in cm2</th>\n",
       "      <td>2488.3</td>\n",
       "      <td>52016.4</td>\n",
       "      <td>101097.8</td>\n",
       "    </tr>\n",
       "    <tr>\n",
       "      <th>Turns in #</th>\n",
       "      <td>46.4</td>\n",
       "      <td>93.8</td>\n",
       "      <td>87.9</td>\n",
       "    </tr>\n",
       "    <tr>\n",
       "      <th>Capacity in Ah</th>\n",
       "      <td>25.3</td>\n",
       "      <td>293.4</td>\n",
       "      <td>570.2</td>\n",
       "    </tr>\n",
       "    <tr>\n",
       "      <th>Energy in Wh</th>\n",
       "      <td>93.2</td>\n",
       "      <td>918.3</td>\n",
       "      <td>1784.7</td>\n",
       "    </tr>\n",
       "    <tr>\n",
       "      <th>Cells@100kWh in #</th>\n",
       "      <td>1072.8</td>\n",
       "      <td>108.9</td>\n",
       "      <td>56.0</td>\n",
       "    </tr>\n",
       "    <tr>\n",
       "      <th>Outer Surface Area in cm2</th>\n",
       "      <td>148.8</td>\n",
       "      <td>69938.8</td>\n",
       "      <td>95041.1</td>\n",
       "    </tr>\n",
       "    <tr>\n",
       "      <th>Jelly Rol Area per Energy in cm2/Wh</th>\n",
       "      <td>26.7</td>\n",
       "      <td>56.6</td>\n",
       "      <td>56.6</td>\n",
       "    </tr>\n",
       "    <tr>\n",
       "      <th>Turns per Energy in #/mWh</th>\n",
       "      <td>497.5</td>\n",
       "      <td>102.2</td>\n",
       "      <td>49.3</td>\n",
       "    </tr>\n",
       "    <tr>\n",
       "      <th>Outer Surface Area per Energy in cm2/Wh</th>\n",
       "      <td>0.1</td>\n",
       "      <td>76.2</td>\n",
       "      <td>53.3</td>\n",
       "    </tr>\n",
       "  </tbody>\n",
       "</table>\n",
       "</div>"
      ],
      "text/plain": [
       "                                         Cylindric 4680  Prismatic 280Ah  \\\n",
       "Jelly Roll Area in cm2                           2488.3          52016.4   \n",
       "Turns in #                                         46.4             93.8   \n",
       "Capacity in Ah                                     25.3            293.4   \n",
       "Energy in Wh                                       93.2            918.3   \n",
       "Cells@100kWh in #                                1072.8            108.9   \n",
       "Outer Surface Area in cm2                         148.8          69938.8   \n",
       "Jelly Rol Area per Energy in cm2/Wh                26.7             56.6   \n",
       "Turns per Energy in #/mWh                         497.5            102.2   \n",
       "Outer Surface Area per Energy in cm2/Wh             0.1             76.2   \n",
       "\n",
       "                                         Prismatic 560Ah  \n",
       "Jelly Roll Area in cm2                          101097.8  \n",
       "Turns in #                                          87.9  \n",
       "Capacity in Ah                                     570.2  \n",
       "Energy in Wh                                      1784.7  \n",
       "Cells@100kWh in #                                   56.0  \n",
       "Outer Surface Area in cm2                        95041.1  \n",
       "Jelly Rol Area per Energy in cm2/Wh                 56.6  \n",
       "Turns per Energy in #/mWh                           49.3  \n",
       "Outer Surface Area per Energy in cm2/Wh             53.3  "
      ]
     },
     "execution_count": 25,
     "metadata": {},
     "output_type": "execute_result"
    }
   ],
   "source": [
    "energy_pack = 100000 # Wh\n",
    "df_all = pd.DataFrame(index = ['Jelly Roll Area in cm2', \n",
    "                                'Turns in #', \n",
    "                                'Capacity in Ah', \n",
    "                                'Energy in Wh', \n",
    "                                'Cells@100kWh in #', \n",
    "                                'Outer Surface Area in cm2',\n",
    "                                'Jelly Rol Area per Energy in cm2/Wh',\n",
    "                                'Turns per Energy in #/mWh',\n",
    "                                'Outer Surface Area per Energy in cm2/Wh'])\n",
    "df_all['Cylindric 4680'] = [NMC_Gr_cyl.jr_area, \n",
    "                             NMC_Gr_cyl.turns, \n",
    "                             NMC_Gr_cyl.capacity,\n",
    "                             NMC_Gr_cyl.energy,\n",
    "                             energy_pack/NMC_Gr_cyl.energy, \n",
    "                            cylindrical_surf_area, \n",
    "                            NMC_Gr_cyl.jr_area/NMC_Gr_cyl.energy,\n",
    "                            NMC_Gr_cyl.turns/(NMC_Gr_cyl.energy/1000),\n",
    "                           cylindrical_surf_area/NMC_Gr_cyl.jr_area]\n",
    "df_all['Prismatic 280Ah'] = [LFP_Gr_prismatic.jr_area,\n",
    "                            LFP_Gr_prismatic.turns,\n",
    "                            LFP_Gr_prismatic.capacity,\n",
    "                            LFP_Gr_prismatic.energy,\n",
    "                            energy_pack/LFP_Gr_prismatic.energy,\n",
    "                            prismatic_surf_area,\n",
    "                            LFP_Gr_prismatic.jr_area/LFP_Gr_prismatic.energy,\n",
    "                            LFP_Gr_prismatic.turns/(LFP_Gr_prismatic.energy/1000),\n",
    "                            prismatic_surf_area/LFP_Gr_prismatic.energy]\n",
    "df_all['Prismatic 560Ah'] = [LFP_Gr_prismatic_560.jr_area,\n",
    "                            LFP_Gr_prismatic_560.turns,\n",
    "                            LFP_Gr_prismatic_560.capacity,\n",
    "                            LFP_Gr_prismatic_560.energy,\n",
    "                            energy_pack/LFP_Gr_prismatic_560.energy,\n",
    "                            prismatic_surf_area_560,\n",
    "                            LFP_Gr_prismatic_560.jr_area/LFP_Gr_prismatic_560.energy,\n",
    "                            LFP_Gr_prismatic_560.turns/(LFP_Gr_prismatic_560.energy/1000),\n",
    "                            prismatic_surf_area_560/LFP_Gr_prismatic_560.energy]\n",
    "df_all.round(decimals=1)"
   ]
  },
  {
   "cell_type": "markdown",
   "id": "24a757d4",
   "metadata": {},
   "source": [
    "## Conclusions\n",
    "\n",
    "What really creates the risks from a manufacturing viewpoint: \n",
    "* large electrode sheets -> it becomes more challenging to produce highly uniform and defect free large areas \n",
    "* number of stacks / turns in one cell -> the processes are performed at high speed in large quantities, but the precision of each step needs to nearly perfect, the more proceses performed, the higher the chances one of these is less perfect \n",
    "\n",
    "What really creates the risks from a system viewpoint: \n",
    "* amount of cells per system -> chances are larger, that there is one faulty cell in one large battery pack \n",
    "* outer surface area per energy -> if the ratio of outer surface area to energy is large, there is a big surface available which can be used to cool the cell, with a small ratio, only low cooling power can be directed within the cell \n",
    "* energy content per cell -> small cells could potentially go into a thermal runaway, but a thermal propagation can still be avoided, since the shielding can prevent other cells to be come affected. If the cell contains too much energy, thermal shielding might not be capable to protect the other cells from going into thermal runaway \n",
    "\n",
    "\n",
    "What do we see for these different cell classes: \n",
    "* the 280 Ah cell format shows highest ratio of outer surface area to energy and so provides the largest area for potential cooling and heat convection \n",
    "* the 280 Ah cell format shows roughly the same amount of turns or stackings in the housing in absolut terms, meaning it does not create less risks induces by the turns / stackings compared to the 560 Ah format \n",
    "* Leveraring these large cells reduces the amount of cells needed for a battery pack / rack significantly "
   ]
  },
  {
   "cell_type": "code",
   "execution_count": null,
   "id": "c276d7f0",
   "metadata": {},
   "outputs": [],
   "source": []
  }
 ],
 "metadata": {
  "kernelspec": {
   "display_name": "Python 3 (ipykernel)",
   "language": "python",
   "name": "python3"
  },
  "language_info": {
   "codemirror_mode": {
    "name": "ipython",
    "version": 3
   },
   "file_extension": ".py",
   "mimetype": "text/x-python",
   "name": "python",
   "nbconvert_exporter": "python",
   "pygments_lexer": "ipython3",
   "version": "3.9.13"
  }
 },
 "nbformat": 4,
 "nbformat_minor": 5
}
